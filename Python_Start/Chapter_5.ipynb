{
 "cells": [
  {
   "cell_type": "code",
   "execution_count": 1,
   "metadata": {},
   "outputs": [
    {
     "name": "stdout",
     "output_type": "stream",
     "text": [
      "repeat steps\n",
      "5\n",
      "4\n",
      "3\n",
      "2\n",
      "1\n",
      "Blastoff\n"
     ]
    }
   ],
   "source": [
    "#loops and iterations\n",
    "#repeated steps\n",
    "print('repeat steps')\n",
    "\n",
    "n=5\n",
    "while n>0:\n",
    "    print(n)\n",
    "    n=n-1\n",
    "\n",
    "print('Blastoff')"
   ]
  },
  {
   "cell_type": "code",
   "execution_count": 2,
   "metadata": {},
   "outputs": [
    {
     "name": "stdout",
     "output_type": "stream",
     "text": [
      "> Hello There\n",
      "Hello There\n",
      "> Infinite Loop\n",
      "Infinite Loop\n",
      "> Following\n",
      "Following\n",
      "> done\n",
      "Done!\n"
     ]
    }
   ],
   "source": [
    "#An infinite loop is not particularly good for the computer\n",
    "#So we need to break out of the loop, the Break statement ends the current loop and jump to the following statement immediately \n",
    "\n",
    "while True:\n",
    "    line=input('> ')\n",
    "    if line ==('done'):\n",
    "        break #this is the break statement\n",
    "    print(line)\n",
    "print('Done!')"
   ]
  },
  {
   "cell_type": "code",
   "execution_count": 4,
   "metadata": {},
   "outputs": [
    {
     "name": "stdout",
     "output_type": "stream",
     "text": [
      "> Hello world\n",
      "Hello world\n",
      "> What is this \n",
      "What is this \n",
      "> #get back\n",
      "> I need to go\n",
      "I need to go\n",
      "> done\n",
      "Done!\n"
     ]
    }
   ],
   "source": [
    "#Finish an Iteration with Continue skips to the beginning of the loop.\n",
    "\n",
    "while True:\n",
    "    line = input('> ')\n",
    "    if line[0] == '#':\n",
    "        continue #it skips to the beginning of the loop.\n",
    "    if line == 'done':\n",
    "        break\n",
    "    print(line)\n",
    "print('Done!')"
   ]
  },
  {
   "cell_type": "code",
   "execution_count": 6,
   "metadata": {},
   "outputs": [
    {
     "name": "stdout",
     "output_type": "stream",
     "text": [
      "5\n",
      "4\n",
      "3\n",
      "2\n",
      "1\n",
      "Blastoff\n"
     ]
    }
   ],
   "source": [
    "#Definite Loop\n",
    "\n",
    "for x in [5,4,3,2,1]:\n",
    "    print(x)\n",
    "print('Blastoff')"
   ]
  },
  {
   "cell_type": "code",
   "execution_count": 7,
   "metadata": {},
   "outputs": [
    {
     "name": "stdout",
     "output_type": "stream",
     "text": [
      "Happy New Year: Joseph\n",
      "Happy New Year: Glenn\n",
      "Happy New Year: Sally\n",
      "Done\n"
     ]
    }
   ],
   "source": [
    "#A definite loop with Strings\n",
    "\n",
    "friends = ['Joseph', 'Glenn', 'Sally']\n",
    "for friend in friends:\n",
    "    print('Happy New Year:', friend)\n",
    "print('Done')\n",
    "\n",
    "#Definite loops have explicit iteration variables that change each time through a loop. These iteration variables move through the sequence or set."
   ]
  },
  {
   "cell_type": "code",
   "execution_count": 11,
   "metadata": {},
   "outputs": [
    {
     "name": "stdout",
     "output_type": "stream",
     "text": [
      "Before -1\n",
      "9 9\n",
      "41 41\n",
      "41 12\n",
      "41 3\n",
      "74 74\n",
      "74 15\n",
      "After 74\n"
     ]
    }
   ],
   "source": [
    "#Finding the largest value\n",
    "\n",
    "largest_so_far=-1 #-1 here is a Flag Value\n",
    "print('Before', largest_so_far)\n",
    "for the_num in [9,41,12,3,74,15]:\n",
    "    if the_num > largest_so_far:\n",
    "         largest_so_far = the_num\n",
    "    print( largest_so_far, the_num)\n",
    "print('After',  largest_so_far)"
   ]
  },
  {
   "cell_type": "code",
   "execution_count": 12,
   "metadata": {},
   "outputs": [
    {
     "name": "stdout",
     "output_type": "stream",
     "text": [
      "Before 0\n",
      "1 9\n",
      "2 41\n",
      "3 12\n",
      "4 3\n",
      "5 74\n",
      "6 15\n",
      "After 6\n"
     ]
    }
   ],
   "source": [
    "#Counting in a loop\n",
    "\n",
    "count=0\n",
    "print('Before', count)\n",
    "for thing in [9,41,12,3,74,15]:\n",
    "    count=count+1#difference between count and summing is here(+the number or +1)\n",
    "    print(count, thing)\n",
    "print('After', count)"
   ]
  },
  {
   "cell_type": "code",
   "execution_count": 17,
   "metadata": {},
   "outputs": [
    {
     "name": "stdout",
     "output_type": "stream",
     "text": [
      "Before 0\n",
      "9 9\n",
      "50 41\n",
      "62 12\n",
      "65 3\n",
      "139 74\n",
      "154 15\n",
      "After 154\n"
     ]
    }
   ],
   "source": [
    "#Summing in a loop\n",
    "\n",
    "total=0\n",
    "print('Before', total)\n",
    "for thing in [9,41,12,3,74,15]:\n",
    "    total=total+thing #difference between count and summing is here(+the number or +1)\n",
    "    print(total, thing)\n",
    "print('After', total)"
   ]
  },
  {
   "cell_type": "code",
   "execution_count": 18,
   "metadata": {},
   "outputs": [
    {
     "name": "stdout",
     "output_type": "stream",
     "text": [
      "Before 0 0\n",
      "1 9 9\n",
      "2 50 41\n",
      "3 62 12\n",
      "4 65 3\n",
      "5 139 74\n",
      "6 154 15\n",
      "After 6 154 25.666666666666668\n"
     ]
    }
   ],
   "source": [
    "# Finding average in a loop\n",
    "#An average just combines the sum and the counting, patterns and divides when the loop is done\n",
    "\n",
    "count=0\n",
    "sum=0\n",
    "print('Before', count, sum)\n",
    "for value in [9,41,12,3,74,15]:\n",
    "    count=count+1\n",
    "    sum=sum+value\n",
    "    print(count, sum, value)\n",
    "print('After', count, sum, sum/count)"
   ]
  },
  {
   "cell_type": "code",
   "execution_count": 19,
   "metadata": {},
   "outputs": [
    {
     "name": "stdout",
     "output_type": "stream",
     "text": [
      "Before\n",
      "Large number 41\n",
      "Large number 74\n",
      "After\n"
     ]
    }
   ],
   "source": [
    "#Filtering in a loop\n",
    "\n",
    "print('Before')\n",
    "for value in [9,41,12,3,74,15]:\n",
    "    if value>20:\n",
    "        print('Large number', value)\n",
    "print('After')"
   ]
  },
  {
   "cell_type": "code",
   "execution_count": 23,
   "metadata": {},
   "outputs": [
    {
     "name": "stdout",
     "output_type": "stream",
     "text": [
      "Before False\n",
      "False 9\n",
      "False 41\n",
      "False 12\n",
      "True 3\n",
      "True 74\n",
      "True 15\n",
      "After True\n"
     ]
    }
   ],
   "source": [
    "#Search using a Boolean variables\n",
    "#If we want to know if a value is found, we use a variable that starts at False and set to True as soon as we find what we are looking for.\n",
    "\n",
    "found= False\n",
    "print('Before', found)\n",
    "for value in [9,41,12,3,74,15]:\n",
    "    if value==3:\n",
    "        found=True\n",
    "        #we can add a 'break' here to stop going back.\n",
    "    print(found, value)\n",
    "print('After', found)"
   ]
  },
  {
   "cell_type": "code",
   "execution_count": 26,
   "metadata": {},
   "outputs": [
    {
     "name": "stdout",
     "output_type": "stream",
     "text": [
      "Before None\n",
      "9 9\n",
      "9 41\n",
      "9 12\n",
      "3 3\n",
      "3 74\n",
      "3 15\n",
      "After 3\n"
     ]
    }
   ],
   "source": [
    "#Finding the smallest value\n",
    "\n",
    "smallest_so_far=None\n",
    "print('Before', smallest_so_far)\n",
    "for value in [9,41,12,3,74,15]:\n",
    "    if smallest_so_far is None:\n",
    "        smallest_so_far=value# grab the first value for our loop, getting start.\n",
    "    elif value< smallest_so_far:\n",
    "         smallest_so_far=value\n",
    "    print( smallest_so_far, value)\n",
    "print('After',  smallest_so_far)"
   ]
  },
  {
   "cell_type": "code",
   "execution_count": null,
   "metadata": {},
   "outputs": [],
   "source": [
    "#The 'is' and 'is not' are both operators\n",
    "#'Is' implies 'is the same as', and it is stronger than == \n",
    "#'Is' is usually using them for ture, false, or None."
   ]
  }
 ],
 "metadata": {
  "kernelspec": {
   "display_name": "Python 3",
   "language": "python",
   "name": "python3"
  },
  "language_info": {
   "codemirror_mode": {
    "name": "ipython",
    "version": 3
   },
   "file_extension": ".py",
   "mimetype": "text/x-python",
   "name": "python",
   "nbconvert_exporter": "python",
   "pygments_lexer": "ipython3",
   "version": "3.7.1"
  }
 },
 "nbformat": 4,
 "nbformat_minor": 2
}
