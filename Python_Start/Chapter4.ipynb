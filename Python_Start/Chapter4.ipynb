{
 "cells": [
  {
   "cell_type": "code",
   "execution_count": 1,
   "metadata": {},
   "outputs": [
    {
     "name": "stdout",
     "output_type": "stream",
     "text": [
      "Hello\n",
      "Fun\n",
      "Zip\n",
      "Hello\n",
      "Fun\n"
     ]
    }
   ],
   "source": [
    "#Store and reused Steps\n",
    "def thing():\n",
    "    print('Hello')\n",
    "    print('Fun')\n",
    "\n",
    "thing()\n",
    "print('Zip')\n",
    "thing()"
   ]
  },
  {
   "cell_type": "code",
   "execution_count": 4,
   "metadata": {},
   "outputs": [
    {
     "name": "stdout",
     "output_type": "stream",
     "text": [
      "w\n",
      " \n"
     ]
    }
   ],
   "source": [
    "# A function is some stored code that we use. A function takes some imput and produces an output\n",
    "big=max('Hello world')\n",
    "print(big)\n",
    "tiny=min('Hello world')\n",
    "print(tiny)#  which sends us the \"space\""
   ]
  },
  {
   "cell_type": "code",
   "execution_count": 11,
   "metadata": {},
   "outputs": [
    {
     "name": "stdout",
     "output_type": "stream",
     "text": [
      "Hello\n",
      "Yo\n",
      "I am a lumberjac, and I am ok\n",
      "I sleep all night and I work all day\n",
      "6\n",
      "I am a lumberjac, and I am ok\n",
      "I sleep all night and I work all day\n",
      "I am a lumberjac, and I am ok\n",
      "I sleep all night and I work all day\n"
     ]
    }
   ],
   "source": [
    "#Building Functions \n",
    "x=4\n",
    "print('Hello')\n",
    "\n",
    "def print_lyrics():#this is where the function is stored\n",
    "    print('I am a lumberjac, and I am ok')\n",
    "    print('I sleep all night and I work all day')\n",
    "\n",
    "print('Yo')\n",
    "print_lyrics()#this is the reuse step, we recall/invoke this stored function\n",
    "x=x+2\n",
    "print(x)\n",
    "\n",
    "def repeat_lyrics():\n",
    "    print_lyrics()\n",
    "    print_lyrics()\n",
    "\n",
    "repeat_lyrics()"
   ]
  },
  {
   "cell_type": "code",
   "execution_count": 3,
   "metadata": {},
   "outputs": [
    {
     "name": "stdout",
     "output_type": "stream",
     "text": [
      "Hello\n",
      "Bonjour\n",
      "Hola\n"
     ]
    }
   ],
   "source": [
    "#parameter\n",
    "def greet(lang):\n",
    "    if lang =='es':\n",
    "        print('Hola')\n",
    "    elif lang =='fr':\n",
    "        print('Bonjour')\n",
    "    else:\n",
    "        print('Hello')\n",
    "        \n",
    "greet('en')\n",
    "greet('fr')\n",
    "greet('es')"
   ]
  },
  {
   "cell_type": "code",
   "execution_count": 5,
   "metadata": {},
   "outputs": [
    {
     "name": "stdout",
     "output_type": "stream",
     "text": [
      "Hello Glenn\n",
      "Hello Sally\n"
     ]
    }
   ],
   "source": [
    "#return function\n",
    "#1. stop the code and jump to the next line.\n",
    "#2. it determines the residual value\n",
    "def greet():\n",
    "    return 'Hello'\n",
    "\n",
    "print(greet(), 'Glenn')\n",
    "print(greet(), 'Sally')"
   ]
  },
  {
   "cell_type": "code",
   "execution_count": 1,
   "metadata": {},
   "outputs": [
    {
     "name": "stdout",
     "output_type": "stream",
     "text": [
      "Hello Glenn\n",
      "Bonjour Sally\n",
      "Hola Micheal\n"
     ]
    }
   ],
   "source": [
    "#Combination of parameter and return function\n",
    "def greet(lang):\n",
    "    if lang =='es':\n",
    "        return('Hola')\n",
    "    elif lang =='fr':\n",
    "        return('Bonjour')\n",
    "    else:\n",
    "        return('Hello')\n",
    "               \n",
    "print(greet('en'), 'Glenn')\n",
    "print(greet('fr'), 'Sally')\n",
    "print(greet('es'), 'Micheal')"
   ]
  },
  {
   "cell_type": "code",
   "execution_count": 2,
   "metadata": {},
   "outputs": [
    {
     "name": "stdout",
     "output_type": "stream",
     "text": [
      "8\n"
     ]
    }
   ],
   "source": [
    "#Multiple parameters and arguments\n",
    "#we match the number and order of the argument and parameters\n",
    "def addtwo(a, b):\n",
    "    added = a+b\n",
    "    return added\n",
    "\n",
    "x=addtwo(3, 5)\n",
    "print(x)"
   ]
  },
  {
   "cell_type": "code",
   "execution_count": 13,
   "metadata": {},
   "outputs": [
    {
     "name": "stdout",
     "output_type": "stream",
     "text": [
      "ABC\n",
      "Zap\n",
      "ABC\n"
     ]
    }
   ],
   "source": [
    "#Exercise 4.5\n",
    "\n",
    "def fred():\n",
    "    print('Zap')\n",
    "def jane():\n",
    "    print('ABC')\n",
    "\n",
    "jane()\n",
    "fred()\n",
    "jane()\n",
    "\n",
    "    "
   ]
  },
  {
   "cell_type": "code",
   "execution_count": 32,
   "metadata": {},
   "outputs": [
    {
     "data": {
      "text/plain": [
       "475.0"
      ]
     },
     "execution_count": 32,
     "metadata": {},
     "output_type": "execute_result"
    }
   ],
   "source": [
    "#Exercise 4.6\n",
    "\n",
    "def computepay(hours, rate):\n",
    "    payment=rate*40+rate*1.5*(hours-40)\n",
    "    return payment\n",
    "\n",
    "computepay(45,10)"
   ]
  },
  {
   "cell_type": "code",
   "execution_count": 114,
   "metadata": {},
   "outputs": [
    {
     "name": "stdout",
     "output_type": "stream",
     "text": [
      "A\n",
      "Not a valid score\n",
      "Not a valid score\n",
      "C\n",
      "F\n"
     ]
    }
   ],
   "source": [
    "#Exercise 4.7\n",
    "def computegrade(grade):\n",
    "    try:\n",
    "        fgrade=float(grade)\n",
    "        if fgrade>=0 and fgrade<=1:\n",
    "            if fgrade>=0.9:\n",
    "                print('A')\n",
    "            elif fgrade>=0.8:\n",
    "                print('B')\n",
    "            elif fgrade>=0.7:\n",
    "                print('C')\n",
    "            elif fgrade>=0.6:\n",
    "                print('D')\n",
    "            else:\n",
    "                print('F')\n",
    "        else:\n",
    "            print('Not a valid score')\n",
    "    except:\n",
    "        print('Not a valid score')\n",
    "\n",
    "computegrade(0.95)\n",
    "computegrade('perfect socre')\n",
    "computegrade(10)\n",
    "computegrade(0.75)\n",
    "computegrade(0.5)\n",
    "\n",
    "\n",
    "\n"
   ]
  }
 ],
 "metadata": {
  "kernelspec": {
   "display_name": "Python 3",
   "language": "python",
   "name": "python3"
  },
  "language_info": {
   "codemirror_mode": {
    "name": "ipython",
    "version": 3
   },
   "file_extension": ".py",
   "mimetype": "text/x-python",
   "name": "python",
   "nbconvert_exporter": "python",
   "pygments_lexer": "ipython3",
   "version": "3.7.1"
  }
 },
 "nbformat": 4,
 "nbformat_minor": 2
}
