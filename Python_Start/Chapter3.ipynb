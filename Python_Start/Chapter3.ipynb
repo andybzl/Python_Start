{
 "cells": [
  {
   "cell_type": "code",
   "execution_count": 1,
   "metadata": {},
   "outputs": [
    {
     "name": "stdout",
     "output_type": "stream",
     "text": [
      "Equals to 5\n",
      "Greater than 4\n",
      "Greater than or equal to 5\n",
      "Less than or equal to 5\n",
      "Less than 6\n",
      "Not equal to 6\n"
     ]
    }
   ],
   "source": [
    "#comparison operators\n",
    "x=5\n",
    "if x == 5:\n",
    "    print('Equals to 5')\n",
    "if x >4:\n",
    "    print('Greater than 4')\n",
    "if x >=5:\n",
    "    print('Greater than or equal to 5')\n",
    "if x<=5:\n",
    "    print('Less than or equal to 5')\n",
    "if x<6: \n",
    "    print('Less than 6')\n",
    "if x!=6:\n",
    "    print('Not equal to 6')"
   ]
  },
  {
   "cell_type": "code",
   "execution_count": 2,
   "metadata": {},
   "outputs": [
    {
     "name": "stdout",
     "output_type": "stream",
     "text": [
      "Is 5\n",
      "Is still 5\n",
      "Thrid 5\n",
      "Afterward 5\n",
      "Before 6\n",
      "Afterward 6\n"
     ]
    }
   ],
   "source": [
    "#One-way decision\n",
    "x=5\n",
    "if x==5:\n",
    "    print('Is 5')\n",
    "    print('Is still 5')\n",
    "    print('Thrid 5')\n",
    "print('Afterward 5')\n",
    "print('Before 6')\n",
    "\n",
    "if x==6:\n",
    "    print('Is 6')\n",
    "    print('Is still 6')\n",
    "    print('Thrid 6')\n",
    "    #in fact, Python would ignore these since x is not equal to 6, and jump into the next de-indented line.\n",
    "print('Afterward 6')"
   ]
  },
  {
   "cell_type": "code",
   "execution_count": 4,
   "metadata": {},
   "outputs": [
    {
     "name": "stdout",
     "output_type": "stream",
     "text": [
      "More than 1\n",
      " Less than 100\n",
      "All Done\n",
      "0\n",
      "Done with i 0\n",
      "1\n",
      "Done with i 1\n",
      "2\n",
      "Done with i 2\n",
      "3\n",
      "Bigger than 2\n",
      "Done with i 3\n",
      "4\n",
      "Bigger than 2\n",
      "Done with i 4\n",
      "All Done\n"
     ]
    }
   ],
   "source": [
    "#Nested decision\n",
    "x=42\n",
    "if x>1:\n",
    "    print('More than 1')\n",
    "    if x<100:\n",
    "        print(' Less than 100')# this is a nested\n",
    "print('All Done')\n",
    "\n",
    "for i in range (5):\n",
    "    print(i)\n",
    "    if i>2:\n",
    "        print('Bigger than 2')# this is a nested\n",
    "    print('Done with i', i)\n",
    "print('All Done')"
   ]
  },
  {
   "cell_type": "code",
   "execution_count": 5,
   "metadata": {},
   "outputs": [
    {
     "name": "stdout",
     "output_type": "stream",
     "text": [
      "Bigger\n",
      "All Done\n"
     ]
    }
   ],
   "source": [
    "#Two-way Decision\n",
    "x=4\n",
    "if x>2:\n",
    "    print('Bigger')\n",
    "else:\n",
    "    print('Smaller')\n",
    "print('All Done')"
   ]
  },
  {
   "cell_type": "code",
   "execution_count": 8,
   "metadata": {},
   "outputs": [
    {
     "name": "stdout",
     "output_type": "stream",
     "text": [
      "Small\n",
      "All Done\n",
      "Medium\n",
      "All Done\n",
      "Large\n",
      "All Done\n"
     ]
    }
   ],
   "source": [
    "#Multi-way Decision, and will only triggers one option.\n",
    "x=0\n",
    "if x<2:\n",
    "    print('Small')\n",
    "elif x<10:\n",
    "    print('Medium')\n",
    "else:\n",
    "    print('Large')\n",
    "print('All Done')\n",
    "\n",
    "x=5\n",
    "if x<2:\n",
    "    print('Small')\n",
    "elif x<10:\n",
    "    print('Medium')\n",
    "else:\n",
    "    print('Large')\n",
    "print('All Done')\n",
    "\n",
    "x=20\n",
    "if x<2:\n",
    "    print('Small')\n",
    "elif x<10:\n",
    "    print('Medium')\n",
    "else:\n",
    "    print('Large')\n",
    "print('All Done')"
   ]
  },
  {
   "cell_type": "code",
   "execution_count": 1,
   "metadata": {},
   "outputs": [
    {
     "name": "stdout",
     "output_type": "stream",
     "text": [
      "All Done\n"
     ]
    }
   ],
   "source": [
    "# No Else\n",
    "x=50\n",
    "if x<2:\n",
    "    print('Small')\n",
    "elif x<10:\n",
    "    print('Medium')\n",
    "    \n",
    "print('All Done')"
   ]
  },
  {
   "cell_type": "code",
   "execution_count": 2,
   "metadata": {},
   "outputs": [
    {
     "name": "stdout",
     "output_type": "stream",
     "text": [
      "Big\n"
     ]
    }
   ],
   "source": [
    "#You can have multiple \"elif\", but since it is a multi-way decision, it will only trigger one. \n",
    "x=15\n",
    "if x<2:\n",
    "    print('Small')\n",
    "elif x<10:\n",
    "    print('Medium')\n",
    "elif x<20:\n",
    "    print('Big')# it will trigger this condition, and print out \"Big\"\n",
    "elif x<40:\n",
    "    print('Large')\n",
    "elif x<100:\n",
    "    print('Huge')\n",
    "else:\n",
    "    print('Ginormous')"
   ]
  },
  {
   "cell_type": "code",
   "execution_count": 4,
   "metadata": {},
   "outputs": [
    {
     "name": "stdout",
     "output_type": "stream",
     "text": [
      "First -1\n",
      "Second 123\n"
     ]
    }
   ],
   "source": [
    "#Try/except Structure.\n",
    "astr='Hello Bob'\n",
    "try:\n",
    "    istr=int(astr)\n",
    "    #Without try/except, this will be a traceback since a string cannot convert to integer. However, in this case, Python just jumps to \"except\" section and continue.\n",
    "except:\n",
    "    istr=-1\n",
    "print('First', istr)\n",
    "\n",
    "astr='123'\n",
    "try:\n",
    "    istr=int(astr)\n",
    "except:\n",
    "    istr=-1\n",
    "print('Second', istr)"
   ]
  },
  {
   "cell_type": "code",
   "execution_count": 6,
   "metadata": {},
   "outputs": [
    {
     "name": "stdout",
     "output_type": "stream",
     "text": [
      "Enter a number :2owl\n",
      "Not a number\n",
      "Enter a number :42\n",
      "Nice work\n"
     ]
    }
   ],
   "source": [
    "#Sample of  try/except\n",
    "rawstr=input('Enter a number :')\n",
    "try:\n",
    "    ival=int(rawstr)\n",
    "except:\n",
    "    ival=-1\n",
    "    \n",
    "if ival>0:\n",
    "    print('Nice work')\n",
    "else:\n",
    "    print('Not a number')\n",
    "    \n",
    "rawstr=input('Enter a number :')\n",
    "try:\n",
    "    ival=int(rawstr)\n",
    "except:\n",
    "    ival=-1\n",
    "    \n",
    "if ival>0:\n",
    "    print('Nice work')\n",
    "else:\n",
    "    print('Not a number')"
   ]
  },
  {
   "cell_type": "code",
   "execution_count": 17,
   "metadata": {},
   "outputs": [
    {
     "name": "stdout",
     "output_type": "stream",
     "text": [
      "Enter the hours of working45\n",
      "Enter the rate of payment10\n",
      "gross pay above 40 hours 475.0\n"
     ]
    }
   ],
   "source": [
    "#Exercise 3.1 Rewrite your pay computation to give the employee 1.5 times the hourly rate for hours worked above 40 hours\n",
    "hour=input('Enter the hours of working')\n",
    "ihour=int(hour)\n",
    "rate=input('Enter the rate of payment')\n",
    "irate=int(rate)\n",
    "if ihour>40:\n",
    "    gp=irate*40+irate*1.5*(ihour-40)\n",
    "    print('gross pay above 40 hours',gp)\n",
    "else:\n",
    "    gp=irate*int(ihour)\n",
    "    print('gross pay',gp)\n",
    "\n"
   ]
  },
  {
   "cell_type": "code",
   "execution_count": 36,
   "metadata": {},
   "outputs": [
    {
     "name": "stdout",
     "output_type": "stream",
     "text": [
      "Enter the hours of working20\n",
      "Enter the rate of paymentNine\n",
      "please enter a numeric input in both hour and rate\n"
     ]
    }
   ],
   "source": [
    "#Exercise 3.2\n",
    "hour=input('Enter the hours of working')\n",
    "rate=input('Enter the rate of payment')\n",
    "try:\n",
    "    ihour=int(hour)\n",
    "    irate=int(rate)\n",
    "    if ihour>40:\n",
    "        gp=irate*40+irate*1.5*(ihour-40)\n",
    "        print('gross pay above 40 hours',gp)\n",
    "    else:\n",
    "        gp=irate*int(ihour)\n",
    "        print('gross pay',gp) \n",
    "except:\n",
    "    print('please enter a numeric input in both hour and rate')\n"
   ]
  },
  {
   "cell_type": "code",
   "execution_count": 1,
   "metadata": {},
   "outputs": [
    {
     "name": "stdout",
     "output_type": "stream",
     "text": [
      "Enter the grade numberperfect score\n",
      "Not a valid score\n"
     ]
    }
   ],
   "source": [
    "#Exercise 3.3\n",
    "grade=input('Enter the grade number')\n",
    "try:\n",
    "    fgrade=float(grade)\n",
    "    if fgrade>=0 and fgrade<=1:\n",
    "        if fgrade>=0.9:\n",
    "            print('A')\n",
    "        elif fgrade>=0.8:\n",
    "            print('B')\n",
    "        elif fgrade>=0.7:\n",
    "            print('C')\n",
    "        elif fgrade>=0.6:\n",
    "            print('D')\n",
    "        else:\n",
    "            print('F')\n",
    "    else:\n",
    "        print('Not a valid score')\n",
    "except:\n",
    "    print('Not a valid score')\n",
    "\n"
   ]
  }
 ],
 "metadata": {
  "kernelspec": {
   "display_name": "Python 3",
   "language": "python",
   "name": "python3"
  },
  "language_info": {
   "codemirror_mode": {
    "name": "ipython",
    "version": 3
   },
   "file_extension": ".py",
   "mimetype": "text/x-python",
   "name": "python",
   "nbconvert_exporter": "python",
   "pygments_lexer": "ipython3",
   "version": "3.7.1"
  }
 },
 "nbformat": 4,
 "nbformat_minor": 2
}
