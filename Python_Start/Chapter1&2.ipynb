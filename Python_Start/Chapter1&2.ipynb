{
 "cells": [
  {
   "cell_type": "code",
   "execution_count": 8,
   "metadata": {},
   "outputs": [
    {
     "name": "stdout",
     "output_type": "stream",
     "text": [
      "hello word\n",
      "First Python Lession on edX\n"
     ]
    }
   ],
   "source": [
    "print(\"hello word\")\n",
    "print(\"First Python Lession on edX\")"
   ]
  },
  {
   "cell_type": "code",
   "execution_count": null,
   "metadata": {},
   "outputs": [],
   "source": []
  },
  {
   "cell_type": "markdown",
   "metadata": {},
   "source": [
    "ls \n",
    "\n",
    "cd  目录名称 \n",
    "\n",
    "git add 新建文件\n",
    "\n",
    "git commit -m \"描述\"\n",
    "\n",
    "git push"
   ]
  },
  {
   "cell_type": "code",
   "execution_count": 2,
   "metadata": {},
   "outputs": [
    {
     "name": "stdout",
     "output_type": "stream",
     "text": [
      "2\n"
     ]
    }
   ],
   "source": [
    "x=x+1\n",
    "print (x)"
   ]
  },
  {
   "cell_type": "code",
   "execution_count": 10,
   "metadata": {},
   "outputs": [
    {
     "name": "stdout",
     "output_type": "stream",
     "text": [
      "sequential steps\n",
      "2\n",
      "4\n"
     ]
    }
   ],
   "source": [
    "print(\"sequential steps\")\n",
    "\n",
    "x=2\n",
    "print(x)\n",
    "x=x+2\n",
    "print(x)"
   ]
  },
  {
   "cell_type": "code",
   "execution_count": 8,
   "metadata": {},
   "outputs": [
    {
     "name": "stdout",
     "output_type": "stream",
     "text": [
      "conditional steps\n",
      "smaller\n",
      "Finis\n"
     ]
    }
   ],
   "source": [
    "print(\"conditional steps\")\n",
    "\n",
    "x=5\n",
    "if x<10:\n",
    "    print('smaller')\n",
    "if x>20:\n",
    "    print('bigger')\n",
    "\n",
    "print(\"Finis\")"
   ]
  },
  {
   "cell_type": "code",
   "execution_count": 12,
   "metadata": {},
   "outputs": [
    {
     "name": "stdout",
     "output_type": "stream",
     "text": [
      "repeat steps\n",
      "5\n",
      "4\n",
      "3\n",
      "2\n",
      "1\n",
      "Blastoff\n"
     ]
    }
   ],
   "source": [
    "print('repeat steps')\n",
    "\n",
    "n=5\n",
    "while n>0:\n",
    "    print(n)\n",
    "    n=n-1\n",
    "\n",
    "print('Blastoff')\n",
    "\n",
    "\n"
   ]
  },
  {
   "cell_type": "markdown",
   "metadata": {},
   "source": [
    "Constants\n",
    "such like numbers, letters and strings, because their value do not change."
   ]
  },
  {
   "cell_type": "code",
   "execution_count": 4,
   "metadata": {},
   "outputs": [
    {
     "name": "stdout",
     "output_type": "stream",
     "text": [
      "123\n",
      "99.75\n",
      "Hello World\n"
     ]
    }
   ],
   "source": [
    "print(123)\n",
    "print(99.75)\n",
    "print(\"Hello World\")"
   ]
  },
  {
   "cell_type": "code",
   "execution_count": 3,
   "metadata": {},
   "outputs": [
    {
     "name": "stdout",
     "output_type": "stream",
     "text": [
      "4\n",
      "4840\n"
     ]
    }
   ],
   "source": [
    "#Expression in Python\n",
    "xx=2\n",
    "xx=xx+2\n",
    "print(xx)\n",
    "\n",
    "yy=440*11\n",
    "print(yy)"
   ]
  },
  {
   "cell_type": "code",
   "execution_count": 6,
   "metadata": {},
   "outputs": [
    {
     "name": "stdout",
     "output_type": "stream",
     "text": [
      "3\n",
      "64\n"
     ]
    }
   ],
   "source": [
    "#Expression in Python, particularly \"power\" and \" remainder\"\n",
    "jj=23\n",
    "kk=jj%5\n",
    "print(kk)\n",
    "print(4**3)"
   ]
  },
  {
   "cell_type": "code",
   "execution_count": 7,
   "metadata": {},
   "outputs": [
    {
     "name": "stdout",
     "output_type": "stream",
     "text": [
      "11.0\n"
     ]
    }
   ],
   "source": [
    "x=1+2**3/4*5\n",
    "print(x)"
   ]
  },
  {
   "cell_type": "code",
   "execution_count": 25,
   "metadata": {},
   "outputs": [
    {
     "name": "stdout",
     "output_type": "stream",
     "text": [
      "Types\n",
      "5\n",
      "hello there\n",
      "<class 'int'>\n",
      "<class 'str'>\n"
     ]
    }
   ],
   "source": [
    "#Types in Python\n",
    "print(\"Types\")\n",
    "ddd=1+4\n",
    "print(ddd)\n",
    "\n",
    "eee=\"hello \"+\"there\"\n",
    "print(eee)\n",
    "\n",
    "print(type(ddd))\n",
    "print(type(eee))"
   ]
  },
  {
   "cell_type": "code",
   "execution_count": 30,
   "metadata": {},
   "outputs": [
    {
     "name": "stdout",
     "output_type": "stream",
     "text": [
      "<class 'int'>\n",
      "<class 'float'>\n",
      "<class 'float'>\n"
     ]
    }
   ],
   "source": [
    "#How Python tells you what type something is\n",
    "a=1\n",
    "print(type(a))\n",
    "\n",
    "b=98.6\n",
    "print(type(b))\n",
    "\n",
    "c=1.0\n",
    "print(type(c))"
   ]
  },
  {
   "cell_type": "code",
   "execution_count": 36,
   "metadata": {},
   "outputs": [
    {
     "name": "stdout",
     "output_type": "stream",
     "text": [
      "199.0\n",
      "<class 'int'>\n",
      "42.0\n",
      "<class 'float'>\n"
     ]
    }
   ],
   "source": [
    "#Type Conversion\n",
    "a=float(99)+100\n",
    "print(a)\n",
    "\n",
    "i=42\n",
    "print(type(i))\n",
    "f=float(i)\n",
    "print(f)\n",
    "print(type(f))"
   ]
  },
  {
   "cell_type": "code",
   "execution_count": 39,
   "metadata": {
    "scrolled": true
   },
   "outputs": [
    {
     "name": "stdout",
     "output_type": "stream",
     "text": [
      "Integer Division\n",
      "5.0\n",
      "4.5\n",
      "0.99\n"
     ]
    }
   ],
   "source": [
    "print(\"Integer Division\")\n",
    "\n",
    "print(10/2)\n",
    "print(9/2)\n",
    "print(99/100)"
   ]
  },
  {
   "cell_type": "code",
   "execution_count": 50,
   "metadata": {
    "scrolled": true
   },
   "outputs": [
    {
     "name": "stdout",
     "output_type": "stream",
     "text": [
      "<class 'str'>\n",
      "<class 'int'>\n",
      "124\n"
     ]
    }
   ],
   "source": [
    "#String Conversion\n",
    "sval=\"123\"\n",
    "print(type(sval))\n",
    "#We could convert this string to a integer\n",
    "ival=int(sval)\n",
    "print(type(ival))\n",
    "print(1+ival)"
   ]
  },
  {
   "cell_type": "code",
   "execution_count": 1,
   "metadata": {},
   "outputs": [
    {
     "name": "stdout",
     "output_type": "stream",
     "text": [
      "Who are you?Zili\n",
      "Hello Zili\n"
     ]
    }
   ],
   "source": [
    "nam=input(\"Who are you?\")\n",
    "print(\"Hello\",nam)"
   ]
  },
  {
   "cell_type": "code",
   "execution_count": 2,
   "metadata": {},
   "outputs": [
    {
     "name": "stdout",
     "output_type": "stream",
     "text": [
      "European Floor0\n",
      "US floor 1\n"
     ]
    }
   ],
   "source": [
    "# Convert Elevator floor \n",
    "inp=input('European Floor')\n",
    "usf=int(inp)+1\n",
    "print('US floor', usf)"
   ]
  },
  {
   "cell_type": "code",
   "execution_count": 3,
   "metadata": {},
   "outputs": [
    {
     "name": "stdout",
     "output_type": "stream",
     "text": [
      "user hours35\n",
      "gross pay 96.25\n"
     ]
    }
   ],
   "source": [
    "# excercise2.3: calculate the user of hours and rate per hours to get gross pay\n",
    "hours=input('user hours')\n",
    "gp=int(hours)*2.75\n",
    "print('gross pay', gp)"
   ]
  },
  {
   "cell_type": "code",
   "execution_count": 59,
   "metadata": {},
   "outputs": [
    {
     "name": "stdout",
     "output_type": "stream",
     "text": [
      "8\n",
      "<class 'int'>\n",
      "8.5\n",
      "<class 'float'>\n",
      "6.0\n",
      "<class 'float'>\n",
      "11\n",
      "<class 'int'>\n"
     ]
    }
   ],
   "source": [
    "#excercise2.4\n",
    "width=17\n",
    "height=12.0\n",
    "\n",
    "a=width//2\n",
    "#\"//\" will truncate the result to an integer\n",
    "b=width/2.0\n",
    "c=height/2\n",
    "d=1+2*5\n",
    "\n",
    "print(a)\n",
    "print(type(a))\n",
    "print(b)\n",
    "print(type(b))\n",
    "print(c)\n",
    "print(type(c))\n",
    "print(d)\n",
    "print(type(d))"
   ]
  },
  {
   "cell_type": "code",
   "execution_count": 1,
   "metadata": {},
   "outputs": [
    {
     "name": "stdout",
     "output_type": "stream",
     "text": [
      "Celsius temperature23\n",
      "Fahrenheit temperature 73.4\n"
     ]
    }
   ],
   "source": [
    "#excercise2.5 Celsius to Fahrenheit\n",
    "cel=input('Celsius temperature')\n",
    "fah=int(cel)*1.8+32\n",
    "print('Fahrenheit temperature',fah)"
   ]
  }
 ],
 "metadata": {
  "kernelspec": {
   "display_name": "Python 3",
   "language": "python",
   "name": "python3"
  },
  "language_info": {
   "codemirror_mode": {
    "name": "ipython",
    "version": 3
   },
   "file_extension": ".py",
   "mimetype": "text/x-python",
   "name": "python",
   "nbconvert_exporter": "python",
   "pygments_lexer": "ipython3",
   "version": "3.7.1"
  }
 },
 "nbformat": 4,
 "nbformat_minor": 2
}
